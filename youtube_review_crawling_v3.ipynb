{
 "cells": [
  {
   "cell_type": "markdown",
   "id": "6db8ec2b",
   "metadata": {},
   "source": [
    "### Youtube Crawling ver.3 \n",
    "- 이번에는 url 수집 (검색어 입력, 클롤링 글 개수 입력) 후 해당 채널의 제목, 조회수, 날짜, 좋아요, 싫어요, 댓글 등을 수집 "
   ]
  },
  {
   "cell_type": "markdown",
   "id": "a8acc12c",
   "metadata": {},
   "source": [
    "### step 0. 준비\n",
    "- 필요한 패키지 임포트 "
   ]
  },
  {
   "cell_type": "code",
   "execution_count": 1,
   "id": "6ba8cbed",
   "metadata": {},
   "outputs": [],
   "source": [
    "import sys  # 시스템 - 인터프리터를 제어할 수 있는 모듈\n",
    "import os   # 시스템 - 운영체제를 제어할 수 있는 모듈 \n",
    "\n",
    "import pandas as pd  # 판다스 임포트\n",
    "import numpy as np   # 넘파이 임포트 \n",
    "import openpyxl      # 파이썬에서 엑셀(xls, xlsx, xlsm)을 다룰 수 있는 패키지\n",
    "\n",
    "from selenium import webdriver    # 웹 프라우저 자동화\n",
    "from selenium.webdriver.chrome.options import Options  # 크롬 드라이버 옵션 모듈\n",
    "import time                       # 시간 지연 \n",
    "import math                       # 수학적인 문제(수학공식 계산)를 해결해주는 모듈 \n",
    "from selenium.webdriver.common.keys import Keys  # key(키보드의 키를 컴퓨터에게 전달하기 위한) 모듈 \n",
    "from tqdm import tqdm             # 진행상황 표시 "
   ]
  },
  {
   "cell_type": "markdown",
   "id": "68b7adf9",
   "metadata": {},
   "source": [
    "### step 1. url 수집 "
   ]
  },
  {
   "cell_type": "code",
   "execution_count": 3,
   "id": "63acde8e",
   "metadata": {},
   "outputs": [
    {
     "name": "stdout",
     "output_type": "stream",
     "text": [
      "검색어 입력: 무지 반팔티\n",
      "크롤링 글 개수: 10\n"
     ]
    }
   ],
   "source": [
    "# 원하는 키워드와 크롤링 개수 입력 변수 만들기\n",
    "keyword = input(\"검색어 입력: \")                 # 키워드 입력\n",
    "articles_number = int(input(\"크롤링 글 개수: \")) # 클롤링 개수 입력 \n",
    "\n",
    "# 크롬 웹브라우저 실행 \n",
    "browser = webdriver.Chrome()  # 크롬 드라이버 실행\n",
    "browser.get(\"https://www.youtube.com/results?search_query={}\".format(keyword))  # 접속하고자 하는 URL 띄우기\n",
    "time.sleep(2)                 # 2초간 프로세스 중지 "
   ]
  },
  {
   "cell_type": "code",
   "execution_count": 3,
   "id": "ece1239c",
   "metadata": {},
   "outputs": [],
   "source": [
    "# 스크롤 다운 함수\n",
    "def scroll_down(browser):\n",
    "    browser.execute_script(\"window.scrollTo(0, 99999)\")\n",
    "    time.sleep(2)"
   ]
  },
  {
   "cell_type": "code",
   "execution_count": 4,
   "id": "1d2bd581",
   "metadata": {},
   "outputs": [],
   "source": [
    "# 영상 목록 스크롤 다운 실행 \n",
    "# 소수점을 올려서 정수화 시킴 - math ceil\n",
    "for i in range(math.ceil((articles_number-26)/20)):  \n",
    "    scroll_down(browser)"
   ]
  },
  {
   "cell_type": "code",
   "execution_count": 5,
   "id": "443dd876",
   "metadata": {},
   "outputs": [
    {
     "name": "stderr",
     "output_type": "stream",
     "text": [
      "/var/folders/_v/797cd3nd5377_6_vchd1z9c80000gp/T/ipykernel_4042/1561093043.py:5: DeprecationWarning: find_elements_by_* commands are deprecated. Please use find_elements() instead\n",
      "  crawling_list = browser.find_elements_by_tag_name('h3 > a')\n"
     ]
    },
    {
     "name": "stdout",
     "output_type": "stream",
     "text": [
      "크롤링할 글 수:  10\n"
     ]
    },
    {
     "data": {
      "text/plain": [
       "['https://www.youtube.com/watch?v=GaRkwOeEr9A',\n",
       " 'https://www.youtube.com/watch?v=-cEyAQ1EvFc',\n",
       " 'https://www.youtube.com/watch?v=l4OiMbRXbXQ',\n",
       " 'https://www.youtube.com/watch?v=v4f_uviLMfA',\n",
       " 'https://www.youtube.com/watch?v=XTwNzYsXs_g',\n",
       " 'https://www.youtube.com/watch?v=64HoeokvPW8',\n",
       " 'https://www.youtube.com/watch?v=6zZ9NDbXYa4',\n",
       " 'https://www.youtube.com/watch?v=lp2Gybl6kLg',\n",
       " 'https://www.youtube.com/watch?v=UMYf-2UC0-E',\n",
       " 'https://www.youtube.com/watch?v=UGVLm_BaVH4']"
      ]
     },
     "execution_count": 5,
     "metadata": {},
     "output_type": "execute_result"
    }
   ],
   "source": [
    "crawling_list = []\n",
    "url_list = []\n",
    "\n",
    "# url 수집 \n",
    "crawling_list = browser.find_elements_by_tag_name('h3 > a')\n",
    "\n",
    "for crawling in crawling_list:\n",
    "    url = crawling.get_attribute('href')\n",
    "    url_list.append(url)\n",
    "    \n",
    "# 크롬 브라우저 닫기     \n",
    "browser.close()\n",
    "\n",
    "# url 리스트 출력 \n",
    "url_list = url_list[:articles_number]\n",
    "print(\"크롤링할 글 수: \", len(url_list))\n",
    "url_list"
   ]
  },
  {
   "cell_type": "markdown",
   "id": "c6c695ef",
   "metadata": {},
   "source": [
    "### step 2. 크롤링"
   ]
  },
  {
   "cell_type": "code",
   "execution_count": 7,
   "id": "b62ad87c",
   "metadata": {},
   "outputs": [
    {
     "name": "stderr",
     "output_type": "stream",
     "text": [
      "  0%|                                                    | 0/10 [00:00<?, ?it/s]<timed exec>:13: DeprecationWarning: find_element_by_* commands are deprecated. Please use find_element() instead\n",
      "<timed exec>:14: DeprecationWarning: find_element_by_* commands are deprecated. Please use find_element() instead\n",
      "<timed exec>:40: DeprecationWarning: find_element_by_* commands are deprecated. Please use find_element() instead\n"
     ]
    },
    {
     "name": "stdout",
     "output_type": "stream",
     "text": [
      "< 0 > 흰색 무지티 5종 추천한다 반팔 긴팔 다 | 가성비, 베이직템, 화이트티, 이너티, 흰티,리뷰 ( 댓글 수: 295 )\n",
      "1. 스크롤 다운 완료\n"
     ]
    },
    {
     "name": "stderr",
     "output_type": "stream",
     "text": [
      "<timed exec>:51: DeprecationWarning: find_element_by_* commands are deprecated. Please use find_element() instead\n",
      "<timed exec>:58: DeprecationWarning: find_elements_by_* commands are deprecated. Please use find_elements() instead\n"
     ]
    },
    {
     "name": "stdout",
     "output_type": "stream",
     "text": [
      "2. 광고 창 안뜸\n",
      "3. 답글 보기 클릭 완료\n",
      "4. 답글 더보기 클릭 완료\n"
     ]
    },
    {
     "name": "stderr",
     "output_type": "stream",
     "text": [
      "<timed exec>:70: DeprecationWarning: find_elements_by_* commands are deprecated. Please use find_elements() instead\n",
      "<timed exec>:80: DeprecationWarning: find_elements_by_* commands are deprecated. Please use find_elements() instead\n"
     ]
    },
    {
     "name": "stdout",
     "output_type": "stream",
     "text": [
      "5. 댓글 수집 : 287\n"
     ]
    },
    {
     "name": "stderr",
     "output_type": "stream",
     "text": [
      " 10%|████▍                                       | 1/10 [01:21<12:10, 81.22s/it]<timed exec>:13: DeprecationWarning: find_element_by_* commands are deprecated. Please use find_element() instead\n",
      "<timed exec>:14: DeprecationWarning: find_element_by_* commands are deprecated. Please use find_element() instead\n",
      "<timed exec>:40: DeprecationWarning: find_element_by_* commands are deprecated. Please use find_element() instead\n"
     ]
    },
    {
     "name": "stdout",
     "output_type": "stream",
     "text": [
      "< 1 > 최고의 무지티를 찾아서😆 feat.여동생 (로맨틱파이어리츠,에두아르도,쿠어,자바나스,인사일런스,드로우핏) 【리뷰&하울】【유료광고】 ( 댓글 수: 170 )\n",
      "1. 스크롤 다운 완료\n"
     ]
    },
    {
     "name": "stderr",
     "output_type": "stream",
     "text": [
      "<timed exec>:51: DeprecationWarning: find_element_by_* commands are deprecated. Please use find_element() instead\n",
      "<timed exec>:58: DeprecationWarning: find_elements_by_* commands are deprecated. Please use find_elements() instead\n"
     ]
    },
    {
     "name": "stdout",
     "output_type": "stream",
     "text": [
      "2. 광고 창 안뜸\n",
      "3. 답글 보기 클릭 완료\n",
      "4. 답글 더보기 클릭 완료\n"
     ]
    },
    {
     "name": "stderr",
     "output_type": "stream",
     "text": [
      "<timed exec>:70: DeprecationWarning: find_elements_by_* commands are deprecated. Please use find_elements() instead\n",
      "<timed exec>:80: DeprecationWarning: find_elements_by_* commands are deprecated. Please use find_elements() instead\n"
     ]
    },
    {
     "name": "stdout",
     "output_type": "stream",
     "text": [
      "5. 댓글 수집 : 167\n"
     ]
    },
    {
     "name": "stderr",
     "output_type": "stream",
     "text": [
      " 20%|████████▊                                   | 2/10 [02:27<09:38, 72.28s/it]<timed exec>:13: DeprecationWarning: find_element_by_* commands are deprecated. Please use find_element() instead\n",
      "<timed exec>:14: DeprecationWarning: find_element_by_* commands are deprecated. Please use find_element() instead\n",
      "<timed exec>:40: DeprecationWarning: find_element_by_* commands are deprecated. Please use find_element() instead\n"
     ]
    },
    {
     "name": "stdout",
     "output_type": "stream",
     "text": [
      "< 2 > 체형별, 핏별 흰티 추천 들어간다 ( 댓글 수: 343 )\n",
      "1. 스크롤 다운 완료\n"
     ]
    },
    {
     "name": "stderr",
     "output_type": "stream",
     "text": [
      "<timed exec>:51: DeprecationWarning: find_element_by_* commands are deprecated. Please use find_element() instead\n",
      "<timed exec>:58: DeprecationWarning: find_elements_by_* commands are deprecated. Please use find_elements() instead\n"
     ]
    },
    {
     "name": "stdout",
     "output_type": "stream",
     "text": [
      "2. 광고 창 안뜸\n",
      "3. 답글 보기 클릭 완료\n",
      "4. 답글 더보기 클릭 완료\n"
     ]
    },
    {
     "name": "stderr",
     "output_type": "stream",
     "text": [
      "<timed exec>:70: DeprecationWarning: find_elements_by_* commands are deprecated. Please use find_elements() instead\n",
      "<timed exec>:80: DeprecationWarning: find_elements_by_* commands are deprecated. Please use find_elements() instead\n"
     ]
    },
    {
     "name": "stdout",
     "output_type": "stream",
     "text": [
      "5. 댓글 수집 : 315\n"
     ]
    },
    {
     "name": "stderr",
     "output_type": "stream",
     "text": [
      " 30%|█████████████▏                              | 3/10 [04:06<09:51, 84.55s/it]<timed exec>:13: DeprecationWarning: find_element_by_* commands are deprecated. Please use find_element() instead\n",
      "<timed exec>:14: DeprecationWarning: find_element_by_* commands are deprecated. Please use find_element() instead\n",
      "<timed exec>:40: DeprecationWarning: find_element_by_* commands are deprecated. Please use find_element() instead\n"
     ]
    },
    {
     "name": "stdout",
     "output_type": "stream",
     "text": [
      "< 3 > 만오천원이하 생필품 무지티셔츠 대전- 승자는? ( 댓글 수: 516 )\n",
      "1. 스크롤 다운 완료\n"
     ]
    },
    {
     "name": "stderr",
     "output_type": "stream",
     "text": [
      "<timed exec>:51: DeprecationWarning: find_element_by_* commands are deprecated. Please use find_element() instead\n",
      "<timed exec>:58: DeprecationWarning: find_elements_by_* commands are deprecated. Please use find_elements() instead\n"
     ]
    },
    {
     "name": "stdout",
     "output_type": "stream",
     "text": [
      "2. 광고 창 안뜸\n",
      "3. 답글 보기 클릭 완료\n",
      "4. 답글 더보기 클릭 완료\n"
     ]
    },
    {
     "name": "stderr",
     "output_type": "stream",
     "text": [
      "<timed exec>:70: DeprecationWarning: find_elements_by_* commands are deprecated. Please use find_elements() instead\n",
      "<timed exec>:80: DeprecationWarning: find_elements_by_* commands are deprecated. Please use find_elements() instead\n"
     ]
    },
    {
     "name": "stdout",
     "output_type": "stream",
     "text": [
      "5. 댓글 수집 : 510\n"
     ]
    },
    {
     "name": "stderr",
     "output_type": "stream",
     "text": [
      " 40%|█████████████████▏                         | 4/10 [06:11<10:04, 100.71s/it]<timed exec>:13: DeprecationWarning: find_element_by_* commands are deprecated. Please use find_element() instead\n",
      "<timed exec>:14: DeprecationWarning: find_element_by_* commands are deprecated. Please use find_element() instead\n",
      "<timed exec>:40: DeprecationWarning: find_element_by_* commands are deprecated. Please use find_element() instead\n"
     ]
    },
    {
     "name": "stdout",
     "output_type": "stream",
     "text": [
      "< 4 > 무지티... 직접 사서 입어봤습니다!/ 무지티 4종 비교 분석 by 기방시(레이어드용 무지티 & 단독 착용 무지티 추천해드림) ( 댓글 수: 105 )\n",
      "1. 스크롤 다운 완료\n"
     ]
    },
    {
     "name": "stderr",
     "output_type": "stream",
     "text": [
      "<timed exec>:51: DeprecationWarning: find_element_by_* commands are deprecated. Please use find_element() instead\n",
      "<timed exec>:58: DeprecationWarning: find_elements_by_* commands are deprecated. Please use find_elements() instead\n"
     ]
    },
    {
     "name": "stdout",
     "output_type": "stream",
     "text": [
      "2. 광고 창 안뜸\n",
      "3. 답글 보기 없음\n",
      "4. 답글 더보기 클릭 완료\n"
     ]
    },
    {
     "name": "stderr",
     "output_type": "stream",
     "text": [
      "<timed exec>:70: DeprecationWarning: find_elements_by_* commands are deprecated. Please use find_elements() instead\n",
      "<timed exec>:80: DeprecationWarning: find_elements_by_* commands are deprecated. Please use find_elements() instead\n"
     ]
    },
    {
     "name": "stdout",
     "output_type": "stream",
     "text": [
      "5. 댓글 수집 : 97\n"
     ]
    },
    {
     "name": "stderr",
     "output_type": "stream",
     "text": [
      " 50%|██████████████████████                      | 5/10 [06:57<06:44, 80.91s/it]<timed exec>:13: DeprecationWarning: find_element_by_* commands are deprecated. Please use find_element() instead\n",
      "<timed exec>:14: DeprecationWarning: find_element_by_* commands are deprecated. Please use find_element() instead\n",
      "<timed exec>:40: DeprecationWarning: find_element_by_* commands are deprecated. Please use find_element() instead\n"
     ]
    },
    {
     "name": "stdout",
     "output_type": "stream",
     "text": [
      "< 5 > \"다같은 흰티가 아니다!\" \"이건 사지마~\"5가지 필수핏(2천원~13만원대) B.P 걱정끝 ( 댓글 수: 542 )\n",
      "1. 스크롤 다운 완료\n"
     ]
    },
    {
     "name": "stderr",
     "output_type": "stream",
     "text": [
      "<timed exec>:51: DeprecationWarning: find_element_by_* commands are deprecated. Please use find_element() instead\n",
      "<timed exec>:58: DeprecationWarning: find_elements_by_* commands are deprecated. Please use find_elements() instead\n"
     ]
    },
    {
     "name": "stdout",
     "output_type": "stream",
     "text": [
      "2. 광고 창 안뜸\n",
      "3. 답글 보기 없음\n",
      "4. 답글 더보기 클릭 완료\n"
     ]
    },
    {
     "name": "stderr",
     "output_type": "stream",
     "text": [
      "<timed exec>:70: DeprecationWarning: find_elements_by_* commands are deprecated. Please use find_elements() instead\n",
      "<timed exec>:80: DeprecationWarning: find_elements_by_* commands are deprecated. Please use find_elements() instead\n"
     ]
    },
    {
     "name": "stdout",
     "output_type": "stream",
     "text": [
      "5. 댓글 수집 : 417\n"
     ]
    },
    {
     "name": "stderr",
     "output_type": "stream",
     "text": [
      " 60%|█████████████████████████▊                 | 6/10 [09:24<06:53, 103.43s/it]<timed exec>:13: DeprecationWarning: find_element_by_* commands are deprecated. Please use find_element() instead\n",
      "<timed exec>:14: DeprecationWarning: find_element_by_* commands are deprecated. Please use find_element() instead\n",
      "<timed exec>:40: DeprecationWarning: find_element_by_* commands are deprecated. Please use find_element() instead\n"
     ]
    },
    {
     "name": "stdout",
     "output_type": "stream",
     "text": [
      "< 6 > 2021 남자 무지 반팔티 이거 보면 끝! 그냥 여기서 사! ( 댓글 수: 117 )\n",
      "1. 스크롤 다운 완료\n"
     ]
    },
    {
     "name": "stderr",
     "output_type": "stream",
     "text": [
      "<timed exec>:51: DeprecationWarning: find_element_by_* commands are deprecated. Please use find_element() instead\n"
     ]
    },
    {
     "name": "stdout",
     "output_type": "stream",
     "text": [
      "2. 광고 창 제거함\n"
     ]
    },
    {
     "name": "stderr",
     "output_type": "stream",
     "text": [
      "<timed exec>:58: DeprecationWarning: find_elements_by_* commands are deprecated. Please use find_elements() instead\n"
     ]
    },
    {
     "name": "stdout",
     "output_type": "stream",
     "text": [
      "3. 답글 보기 클릭 완료\n",
      "4. 답글 더보기 클릭 완료\n"
     ]
    },
    {
     "name": "stderr",
     "output_type": "stream",
     "text": [
      "<timed exec>:70: DeprecationWarning: find_elements_by_* commands are deprecated. Please use find_elements() instead\n",
      "<timed exec>:80: DeprecationWarning: find_elements_by_* commands are deprecated. Please use find_elements() instead\n"
     ]
    },
    {
     "name": "stdout",
     "output_type": "stream",
     "text": [
      "5. 댓글 수집 : 45\n"
     ]
    },
    {
     "name": "stderr",
     "output_type": "stream",
     "text": [
      " 70%|██████████████████████████████▊             | 7/10 [10:10<04:13, 84.60s/it]<timed exec>:13: DeprecationWarning: find_element_by_* commands are deprecated. Please use find_element() instead\n",
      "<timed exec>:14: DeprecationWarning: find_element_by_* commands are deprecated. Please use find_element() instead\n",
      "<timed exec>:40: DeprecationWarning: find_element_by_* commands are deprecated. Please use find_element() instead\n"
     ]
    },
    {
     "name": "stdout",
     "output_type": "stream",
     "text": [
      "< 7 > [TMI리뷰] 여름 필수 인기 무지반팔 4종! 재질,가격 비교분석&추천! ( 댓글 수: 67 )\n",
      "1. 스크롤 다운 완료\n"
     ]
    },
    {
     "name": "stderr",
     "output_type": "stream",
     "text": [
      "<timed exec>:51: DeprecationWarning: find_element_by_* commands are deprecated. Please use find_element() instead\n",
      "<timed exec>:58: DeprecationWarning: find_elements_by_* commands are deprecated. Please use find_elements() instead\n"
     ]
    },
    {
     "name": "stdout",
     "output_type": "stream",
     "text": [
      "2. 광고 창 안뜸\n",
      "3. 답글 보기 클릭 완료\n",
      "4. 답글 더보기 클릭 완료\n"
     ]
    },
    {
     "name": "stderr",
     "output_type": "stream",
     "text": [
      "<timed exec>:70: DeprecationWarning: find_elements_by_* commands are deprecated. Please use find_elements() instead\n",
      "<timed exec>:80: DeprecationWarning: find_elements_by_* commands are deprecated. Please use find_elements() instead\n"
     ]
    },
    {
     "name": "stdout",
     "output_type": "stream",
     "text": [
      "5. 댓글 수집 : 26\n"
     ]
    },
    {
     "name": "stderr",
     "output_type": "stream",
     "text": [
      " 80%|███████████████████████████████████▏        | 8/10 [10:45<02:17, 68.90s/it]<timed exec>:13: DeprecationWarning: find_element_by_* commands are deprecated. Please use find_element() instead\n",
      "<timed exec>:14: DeprecationWarning: find_element_by_* commands are deprecated. Please use find_element() instead\n",
      "<timed exec>:40: DeprecationWarning: find_element_by_* commands are deprecated. Please use find_element() instead\n"
     ]
    },
    {
     "name": "stdout",
     "output_type": "stream",
     "text": [
      "< 8 > 2020 무지티 완벽정리! 직접 세탁까지 해봤음🔥 ( 댓글 수: 73 )\n",
      "1. 스크롤 다운 완료\n"
     ]
    },
    {
     "name": "stderr",
     "output_type": "stream",
     "text": [
      "<timed exec>:51: DeprecationWarning: find_element_by_* commands are deprecated. Please use find_element() instead\n",
      "<timed exec>:58: DeprecationWarning: find_elements_by_* commands are deprecated. Please use find_elements() instead\n"
     ]
    },
    {
     "name": "stdout",
     "output_type": "stream",
     "text": [
      "2. 광고 창 안뜸\n",
      "3. 답글 보기 클릭 완료\n",
      "4. 답글 더보기 클릭 완료\n"
     ]
    },
    {
     "name": "stderr",
     "output_type": "stream",
     "text": [
      "<timed exec>:70: DeprecationWarning: find_elements_by_* commands are deprecated. Please use find_elements() instead\n",
      "<timed exec>:80: DeprecationWarning: find_elements_by_* commands are deprecated. Please use find_elements() instead\n"
     ]
    },
    {
     "name": "stdout",
     "output_type": "stream",
     "text": [
      "5. 댓글 수집 : 73\n"
     ]
    },
    {
     "name": "stderr",
     "output_type": "stream",
     "text": [
      " 90%|███████████████████████████████████████▌    | 9/10 [11:28<01:00, 60.71s/it]<timed exec>:13: DeprecationWarning: find_element_by_* commands are deprecated. Please use find_element() instead\n",
      "<timed exec>:14: DeprecationWarning: find_element_by_* commands are deprecated. Please use find_element() instead\n",
      "<timed exec>:40: DeprecationWarning: find_element_by_* commands are deprecated. Please use find_element() instead\n"
     ]
    },
    {
     "name": "stdout",
     "output_type": "stream",
     "text": [
      "< 9 > 2021 무지 반팔티 이 영상으로 끝낸다. | 여름 무지 반팔티 총정리 리뷰!! ( 댓글 수: 111 )\n",
      "1. 스크롤 다운 완료\n"
     ]
    },
    {
     "name": "stderr",
     "output_type": "stream",
     "text": [
      "<timed exec>:51: DeprecationWarning: find_element_by_* commands are deprecated. Please use find_element() instead\n",
      "<timed exec>:58: DeprecationWarning: find_elements_by_* commands are deprecated. Please use find_elements() instead\n"
     ]
    },
    {
     "name": "stdout",
     "output_type": "stream",
     "text": [
      "2. 광고 창 안뜸\n",
      "3. 답글 보기 클릭 완료\n",
      "4. 답글 더보기 클릭 완료\n"
     ]
    },
    {
     "name": "stderr",
     "output_type": "stream",
     "text": [
      "<timed exec>:70: DeprecationWarning: find_elements_by_* commands are deprecated. Please use find_elements() instead\n",
      "<timed exec>:80: DeprecationWarning: find_elements_by_* commands are deprecated. Please use find_elements() instead\n"
     ]
    },
    {
     "name": "stdout",
     "output_type": "stream",
     "text": [
      "5. 댓글 수집 : 111\n"
     ]
    },
    {
     "name": "stderr",
     "output_type": "stream",
     "text": [
      "100%|███████████████████████████████████████████| 10/10 [12:22<00:00, 74.24s/it]"
     ]
    },
    {
     "name": "stdout",
     "output_type": "stream",
     "text": [
      "CPU times: user 1.74 s, sys: 305 ms, total: 2.04 s\n",
      "Wall time: 12min 22s\n"
     ]
    },
    {
     "name": "stderr",
     "output_type": "stream",
     "text": [
      "\n"
     ]
    }
   ],
   "source": [
    "%%time\n",
    "dict = {}\n",
    "count = 0\n",
    "\n",
    "for url in tqdm(url_list):\n",
    "    # url 열기\n",
    "    browser = webdriver.Chrome()\n",
    "    browser.get(url)\n",
    "    time.sleep(2)\n",
    "\n",
    "    browser.execute_script(\"window.scrollTo(0, 400)\")\n",
    "    time.sleep(1)\n",
    "    \n",
    "    info = browser.find_element_by_css_selector('.style-scope ytd-video-primary-info-renderer').text.split('조회수')\n",
    "    info_2 = browser.find_element_by_css_selector('.style-scope ytd-video-owner-renderer').text.split('구독자')\n",
    "    \n",
    "    # 제목\n",
    "    title = info[0].split('\\n')[-2]\n",
    "    \n",
    "    # 채널명\n",
    "    chanel = info_2[0].split('\\n')[0]\n",
    "    \n",
    "    # 조회수, 날짜 위치 추출\n",
    "    for i in info[1].split('\\n'):\n",
    "        if '회' in i:\n",
    "            view_date = i\n",
    "\n",
    "    # 조회수\n",
    "    #view = int(view_date[0].split('•')[0].replace('회', '').replace(',',''))\n",
    "    view = int(view_date.split('.')[0].replace('회', '').replace(',',''))\n",
    "    # 날짜\n",
    "    #date = view_date[0].split('•')[1]\n",
    "    date = view_date.split('회')[1]\n",
    "    # 좋아요\n",
    "    like = info[1].split('\\n')[1]\n",
    "    # 싫어요\n",
    "    dont_like = info[1].split('\\n')[2]\n",
    "\n",
    "    try:\n",
    "        # 댓글 수\n",
    "        review_cnt = browser.find_element_by_xpath('/html/body/ytd-app/div/ytd-page-manager/ytd-watch-flexy/div[5]/div[1]/div/ytd-comments/ytd-item-section-renderer/div[1]/ytd-comments-header-renderer/div[1]/h2/yt-formatted-string/span[2]').text.replace(',', '')\n",
    "        print('<',count,'>', title, '( 댓글 수:', review_cnt,')')\n",
    "        \n",
    "        # 댓글 스크롤 다운\n",
    "        for i in range(math.ceil((int(review_cnt)-20)/20)):\n",
    "            scroll_down(browser)\n",
    "        print('1. 스크롤 다운 완료')\n",
    "        \n",
    "        # 광고 끄기\n",
    "        time.sleep(10)\n",
    "        try:\n",
    "            browser.find_element_by_css_selector(\"#main > div > ytd-button-renderer\").click()\n",
    "            print('2. 광고 창 제거함')\n",
    "        except:\n",
    "            print('2. 광고 창 안뜸')\n",
    "        \n",
    "        try:\n",
    "            # 답글 n개 보기 클릭\n",
    "            buttons = browser.find_elements_by_css_selector(\"#more-replies > a\")\n",
    "            for button in buttons:\n",
    "                button.send_keys(Keys.ENTER)\n",
    "                time.sleep(1)\n",
    "                button.click()\n",
    "            time.sleep(1)\n",
    "            print('3. 답글 보기 클릭 완료')\n",
    "        except:\n",
    "            print('3. 답글 보기 없음')\n",
    "        \n",
    "        try:\n",
    "            # 답글 더보기 클릭\n",
    "            buttons_more = browser.find_elements_by_css_selector('#continuation > yt-next-continuation > tp-yt-paper-button')\n",
    "            for button in buttons_more:\n",
    "                button.send_keys(Keys.ENTER)\n",
    "                time.sleep(1)\n",
    "            print('4. 답글 더보기 클릭 완료')\n",
    "        except:\n",
    "            print('4. 답글 더보기 없음')\n",
    "        \n",
    "        # 댓글 수집\n",
    "        review_list = []\n",
    "        reviews = browser.find_elements_by_css_selector('#content-text')\n",
    "        for review in reviews:\n",
    "            review = review.text\n",
    "            review_list.append(review)\n",
    "        print('5. 댓글 수집 :', len(review_list))\n",
    "            \n",
    "    except:\n",
    "        review_cnt = ''\n",
    "        review_list = ''\n",
    "        print('댓글 차단')\n",
    "            \n",
    "    target_info = {}\n",
    "    target_info['제목'] = title\n",
    "    target_info['채널명'] = chanel\n",
    "    target_info['조회수'] = view\n",
    "    target_info['날짜'] = date\n",
    "    target_info['좋아요'] = like\n",
    "    target_info['싫어요'] = dont_like\n",
    "    target_info['댓글 수'] = review_cnt\n",
    "    target_info['댓글'] = review_list\n",
    "\n",
    "    dict[count] = target_info\n",
    "\n",
    "    browser.close()\n",
    "    count += 1\n",
    "    time.sleep(1)"
   ]
  },
  {
   "cell_type": "code",
   "execution_count": 8,
   "id": "518ba1ad",
   "metadata": {},
   "outputs": [
    {
     "data": {
      "text/html": [
       "<div>\n",
       "<style scoped>\n",
       "    .dataframe tbody tr th:only-of-type {\n",
       "        vertical-align: middle;\n",
       "    }\n",
       "\n",
       "    .dataframe tbody tr th {\n",
       "        vertical-align: top;\n",
       "    }\n",
       "\n",
       "    .dataframe thead th {\n",
       "        text-align: right;\n",
       "    }\n",
       "</style>\n",
       "<table border=\"1\" class=\"dataframe\">\n",
       "  <thead>\n",
       "    <tr style=\"text-align: right;\">\n",
       "      <th></th>\n",
       "      <th>제목</th>\n",
       "      <th>채널명</th>\n",
       "      <th>조회수</th>\n",
       "      <th>날짜</th>\n",
       "      <th>좋아요</th>\n",
       "      <th>싫어요</th>\n",
       "      <th>댓글 수</th>\n",
       "      <th>댓글</th>\n",
       "    </tr>\n",
       "  </thead>\n",
       "  <tbody>\n",
       "    <tr>\n",
       "      <th>0</th>\n",
       "      <td>흰색 무지티 5종 추천한다 반팔 긴팔 다 | 가성비, 베이직템, 화이트티, 이너티,...</td>\n",
       "      <td>오늘의 주우재</td>\n",
       "      <td>4972612021</td>\n",
       "      <td>2021. 2. 26.</td>\n",
       "      <td>9.2천</td>\n",
       "      <td>싫어요</td>\n",
       "      <td>295</td>\n",
       "      <td>[주우재님 남자 엔터테이너 선호도 1위 등극하신거 축하드려요!\\n50대 선호도 1위...</td>\n",
       "    </tr>\n",
       "    <tr>\n",
       "      <th>1</th>\n",
       "      <td>최고의 무지티를 찾아서😆 feat.여동생 (로맨틱파이어리츠,에두아르도,쿠어,자바나스...</td>\n",
       "      <td>디렉터 짱구대디</td>\n",
       "      <td>1863752021</td>\n",
       "      <td>2021. 5. 13.</td>\n",
       "      <td>1.7천</td>\n",
       "      <td>싫어요</td>\n",
       "      <td>170</td>\n",
       "      <td>[*세탁 퀄리티 테스트를 위해 세탁 후 건조기에 수축 실험(티셔츠에게는 극한..)을...</td>\n",
       "    </tr>\n",
       "    <tr>\n",
       "      <th>2</th>\n",
       "      <td>체형별, 핏별 흰티 추천 들어간다</td>\n",
       "      <td>핏더사이즈</td>\n",
       "      <td>3908412021</td>\n",
       "      <td>2021. 4. 29.</td>\n",
       "      <td>5.5천</td>\n",
       "      <td>싫어요</td>\n",
       "      <td>343</td>\n",
       "      <td>[핏더형이 작년에도 샤카웨어 추천해줘서 작년에 사입고 진짜 잘 입고 있어!! \\n작...</td>\n",
       "    </tr>\n",
       "    <tr>\n",
       "      <th>3</th>\n",
       "      <td>만오천원이하 생필품 무지티셔츠 대전- 승자는?</td>\n",
       "      <td>런업</td>\n",
       "      <td>2016172021</td>\n",
       "      <td>2021. 5. 3.</td>\n",
       "      <td>5.3천</td>\n",
       "      <td>싫어요</td>\n",
       "      <td>516</td>\n",
       "      <td>[제가 딱 찾던 리뷰입니다... 역시 런업 형님..\\n\\n마플에서 매년 반팔 티셔츠...</td>\n",
       "    </tr>\n",
       "    <tr>\n",
       "      <th>4</th>\n",
       "      <td>무지티... 직접 사서 입어봤습니다!/ 무지티 4종 비교 분석 by 기방시(레이어드...</td>\n",
       "      <td>기방시 kivanchy</td>\n",
       "      <td>1092372020</td>\n",
       "      <td>2020. 4. 17.</td>\n",
       "      <td>909</td>\n",
       "      <td>싫어요</td>\n",
       "      <td>105</td>\n",
       "      <td>[이런 비슷한 제품 비교 컨텐츠 너무 도움 되네요 😁😁😁, 여름 필수품 흰색티를 이...</td>\n",
       "    </tr>\n",
       "    <tr>\n",
       "      <th>5</th>\n",
       "      <td>\"다같은 흰티가 아니다!\" \"이건 사지마~\"5가지 필수핏(2천원~13만원대) B.P...</td>\n",
       "      <td>Bora Claire</td>\n",
       "      <td>4942722020</td>\n",
       "      <td>2020. 4. 18.</td>\n",
       "      <td>9.3천</td>\n",
       "      <td>싫어요</td>\n",
       "      <td>542</td>\n",
       "      <td>[:와........이 언니는 진짜 찐인듯ㅠㅠ가끔 패션관련 영상 검색할 때 항상 등...</td>\n",
       "    </tr>\n",
       "    <tr>\n",
       "      <th>6</th>\n",
       "      <td>2021 남자 무지 반팔티 이거 보면 끝! 그냥 여기서 사!</td>\n",
       "      <td>패션튜브삭형</td>\n",
       "      <td>537072021</td>\n",
       "      <td>2021. 5. 26.</td>\n",
       "      <td>815</td>\n",
       "      <td>싫어요</td>\n",
       "      <td>117</td>\n",
       "      <td>[※유료광고 및 PPL이 포함되어 있지 않습니다.\\n\\n반팔무지티는 남자분들 여름에...</td>\n",
       "    </tr>\n",
       "    <tr>\n",
       "      <th>7</th>\n",
       "      <td>[TMI리뷰] 여름 필수 인기 무지반팔 4종! 재질,가격 비교분석&amp;추천!</td>\n",
       "      <td>패션회사 영신빌딩</td>\n",
       "      <td>349712020</td>\n",
       "      <td>2020. 4. 27.</td>\n",
       "      <td>208</td>\n",
       "      <td>싫어요</td>\n",
       "      <td>67</td>\n",
       "      <td>[페플TV 담당자입니다!\\n영상에 당첨 발표일을 깜빡하고 넣지 않아서\\n고정댓글로 ...</td>\n",
       "    </tr>\n",
       "    <tr>\n",
       "      <th>8</th>\n",
       "      <td>2020 무지티 완벽정리! 직접 세탁까지 해봤음🔥</td>\n",
       "      <td>스타일가이드 최겨울</td>\n",
       "      <td>747382020</td>\n",
       "      <td>2020. 7. 10.</td>\n",
       "      <td>1.1천</td>\n",
       "      <td>싫어요</td>\n",
       "      <td>73</td>\n",
       "      <td>[트리플에이\\n\\nhttps://store.musinsa.com/app/produc...</td>\n",
       "    </tr>\n",
       "    <tr>\n",
       "      <th>9</th>\n",
       "      <td>2021 무지 반팔티 이 영상으로 끝낸다. | 여름 무지 반팔티 총정리 리뷰!!</td>\n",
       "      <td>진진호</td>\n",
       "      <td>907692021</td>\n",
       "      <td>2021. 5. 11.</td>\n",
       "      <td>1.1천</td>\n",
       "      <td>싫어요</td>\n",
       "      <td>111</td>\n",
       "      <td>[• 섭외 브랜드들의 제작지원으로 제작된 유료광고 영상입니다\\n\\n\\n\\n\\n\\n1...</td>\n",
       "    </tr>\n",
       "  </tbody>\n",
       "</table>\n",
       "</div>"
      ],
      "text/plain": [
       "                                                  제목           채널명  \\\n",
       "0  흰색 무지티 5종 추천한다 반팔 긴팔 다 | 가성비, 베이직템, 화이트티, 이너티,...       오늘의 주우재   \n",
       "1  최고의 무지티를 찾아서😆 feat.여동생 (로맨틱파이어리츠,에두아르도,쿠어,자바나스...      디렉터 짱구대디   \n",
       "2                                 체형별, 핏별 흰티 추천 들어간다         핏더사이즈   \n",
       "3                          만오천원이하 생필품 무지티셔츠 대전- 승자는?            런업   \n",
       "4  무지티... 직접 사서 입어봤습니다!/ 무지티 4종 비교 분석 by 기방시(레이어드...  기방시 kivanchy   \n",
       "5  \"다같은 흰티가 아니다!\" \"이건 사지마~\"5가지 필수핏(2천원~13만원대) B.P...   Bora Claire   \n",
       "6                  2021 남자 무지 반팔티 이거 보면 끝! 그냥 여기서 사!        패션튜브삭형   \n",
       "7           [TMI리뷰] 여름 필수 인기 무지반팔 4종! 재질,가격 비교분석&추천!     패션회사 영신빌딩   \n",
       "8                        2020 무지티 완벽정리! 직접 세탁까지 해봤음🔥    스타일가이드 최겨울   \n",
       "9       2021 무지 반팔티 이 영상으로 끝낸다. | 여름 무지 반팔티 총정리 리뷰!!           진진호   \n",
       "\n",
       "          조회수            날짜   좋아요  싫어요 댓글 수  \\\n",
       "0  4972612021  2021. 2. 26.  9.2천  싫어요  295   \n",
       "1  1863752021  2021. 5. 13.  1.7천  싫어요  170   \n",
       "2  3908412021  2021. 4. 29.  5.5천  싫어요  343   \n",
       "3  2016172021   2021. 5. 3.  5.3천  싫어요  516   \n",
       "4  1092372020  2020. 4. 17.   909  싫어요  105   \n",
       "5  4942722020  2020. 4. 18.  9.3천  싫어요  542   \n",
       "6   537072021  2021. 5. 26.   815  싫어요  117   \n",
       "7   349712020  2020. 4. 27.   208  싫어요   67   \n",
       "8   747382020  2020. 7. 10.  1.1천  싫어요   73   \n",
       "9   907692021  2021. 5. 11.  1.1천  싫어요  111   \n",
       "\n",
       "                                                  댓글  \n",
       "0  [주우재님 남자 엔터테이너 선호도 1위 등극하신거 축하드려요!\\n50대 선호도 1위...  \n",
       "1  [*세탁 퀄리티 테스트를 위해 세탁 후 건조기에 수축 실험(티셔츠에게는 극한..)을...  \n",
       "2  [핏더형이 작년에도 샤카웨어 추천해줘서 작년에 사입고 진짜 잘 입고 있어!! \\n작...  \n",
       "3  [제가 딱 찾던 리뷰입니다... 역시 런업 형님..\\n\\n마플에서 매년 반팔 티셔츠...  \n",
       "4  [이런 비슷한 제품 비교 컨텐츠 너무 도움 되네요 😁😁😁, 여름 필수품 흰색티를 이...  \n",
       "5  [:와........이 언니는 진짜 찐인듯ㅠㅠ가끔 패션관련 영상 검색할 때 항상 등...  \n",
       "6  [※유료광고 및 PPL이 포함되어 있지 않습니다.\\n\\n반팔무지티는 남자분들 여름에...  \n",
       "7  [페플TV 담당자입니다!\\n영상에 당첨 발표일을 깜빡하고 넣지 않아서\\n고정댓글로 ...  \n",
       "8  [트리플에이\\n\\nhttps://store.musinsa.com/app/produc...  \n",
       "9  [• 섭외 브랜드들의 제작지원으로 제작된 유료광고 영상입니다\\n\\n\\n\\n\\n\\n1...  "
      ]
     },
     "execution_count": 8,
     "metadata": {},
     "output_type": "execute_result"
    }
   ],
   "source": [
    "# 판다스화\n",
    "df = pd.DataFrame.from_dict(dict, 'index')\n",
    "df"
   ]
  },
  {
   "cell_type": "code",
   "execution_count": 9,
   "id": "d5546a0c",
   "metadata": {},
   "outputs": [],
   "source": [
    "# 데이터 프레임 -> 엑셀 파일로 저장\n",
    "df.to_excel('crawler_youtube_review_{}.xlsx'.format(keyword))"
   ]
  },
  {
   "cell_type": "markdown",
   "id": "f393b365",
   "metadata": {},
   "source": [
    "### 유튜브 디테일 자료 크롤링 ver. 3 과정 및 결과 \n",
    "\n",
    "#### 1. 과정 \n",
    "1. 검색어와 크롤링 할 갯수 지정 \n",
    "2. 크롤링 후 URL 저장 \n",
    "3. 저장 된 URL (해당 채널)로 들어가서 아래의 내용 크롤링 \n",
    "    - 콘텐츠 타이틀\n",
    "    - 채널명\n",
    "    - 조회수\n",
    "    - 날짜\n",
    "    - 좋아요 수\n",
    "    - 싫어요 수\n",
    "    - 댓글 수\n",
    "    - 댓글 \n",
    "4. 데이터 프레임으로 저장 \n",
    "5. 데이터 프레임 -> 엑셀로 저장 "
   ]
  },
  {
   "cell_type": "markdown",
   "id": "9ccb3847",
   "metadata": {},
   "source": [
    "#### 2. 결과 \n",
    "- 콘텐츠 타이틀 불러오기 성공 \n",
    "- 조회수 불러오기 성공\n",
    "- 날짜 불러오기 성공 \n",
    "    - 초반에 날짜가 월 기준만 나온 문제 해결 (현재 날짜 모두 나옴)\n",
    "- 좋아요 / 싫어요 수 불러오기 성공 \n",
    "- 댓글수 불러오기 성공\n",
    "- 댓글 불러오기 성공 \n",
    "\n",
    "#### 3. 아쉬운 및 개선점\n",
    "1. 아쉬운 점은 좋아요 수가 int가 아니라 str 형식으로 되어 있음 ( 92,000[X] / 9.2천[O])  -> 논의 필요\n",
    "2. 댓글 크롤링 완료 하지만 댓글 모두를 크롤링하기에는 컴퓨터 자원이 부족하여 데이터 모두 받지 못함. -> 추후 어떻게 할지 논의 필요\n",
    "    - 해당 문제 뿐만 아니라 컴퓨팅 자원 및 IP 주소가 막힐 까봐 많은 양의 데이터를 크롤링 하지 못할 것 같은 걱정이 있음. \n",
    "3. 각각의 댓글을 이어 붙여서 가독성이 좋지 않음. -> 논의 필요\n",
    "4. 더 필요한 정보가 있으면 추가로 크롤링하기"
   ]
  }
 ],
 "metadata": {
  "kernelspec": {
   "display_name": "Python 3 (ipykernel)",
   "language": "python",
   "name": "python3"
  },
  "language_info": {
   "codemirror_mode": {
    "name": "ipython",
    "version": 3
   },
   "file_extension": ".py",
   "mimetype": "text/x-python",
   "name": "python",
   "nbconvert_exporter": "python",
   "pygments_lexer": "ipython3",
   "version": "3.8.12"
  }
 },
 "nbformat": 4,
 "nbformat_minor": 5
}
