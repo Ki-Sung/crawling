{
 "cells": [
  {
   "cell_type": "code",
   "execution_count": 10,
   "id": "69a0178d",
   "metadata": {},
   "outputs": [],
   "source": [
    "# 크롤링에 필요한 패키지 모듈 불러오기 \n",
    "from bs4 import BeautifulSoup\n",
    "from selenium import webdriver \n",
    "from selenium.webdriver.chrome.options import Options\n",
    "from selenium.common.exceptions import NoSuchElementException\n",
    "\n",
    "from fake_useragent import UserAgent\n",
    "import random\n",
    "\n",
    "# pass word 입력값을 감추기 위한 패키지\n",
    "import getpass\n",
    "\n",
    "import os \n",
    "import requests\n",
    "import shutil\n",
    "import urllib\n",
    "from urllib.request import urlopen\n",
    "from urllib.parse import quote_plus\n",
    "from urllib.request import urlretrieve\n",
    "\n",
    "# 작업 진행상황 표시를 위한 패키지 모듈 불러오기 \n",
    "from tqdm import tqdm_notebook as tq\n",
    "import time\n",
    "import datetime\n",
    "\n",
    "# 데이터 판다스로 정리하기 위해 판다스 패키지 불러오기 \n",
    "import pandas as pd\n",
    "\n",
    "import warnings\n",
    "warnings.filterwarnings(action='ignore')"
   ]
  },
  {
   "cell_type": "code",
   "execution_count": 2,
   "id": "f13824aa",
   "metadata": {},
   "outputs": [
    {
     "name": "stdout",
     "output_type": "stream",
     "text": [
      "Mozilla/5.0 (X11; Ubuntu; Linux x86_64; rv:21.0) Gecko/20130331 Firefox/21.0\n"
     ]
    }
   ],
   "source": [
    "# 랜덤으로 생성한 UserAgent 값 출력 \n",
    "ua = UserAgent()\n",
    "userAgent = ua.random\n",
    "print(userAgent)"
   ]
  },
  {
   "cell_type": "code",
   "execution_count": 3,
   "id": "dea472b6",
   "metadata": {},
   "outputs": [],
   "source": [
    "# chrome dirver 옵션\n",
    "options = webdriver.ChromeOptions()\n",
    "options.add_argument(f'user-agent={userAgent}')  # fake user 표시\n",
    "# options.add_argument('headless')                 # 크롬브라우저 숨기기\n",
    "options.add_argument('window-size=1920,1080')    # 모니터 해상도 지정\n",
    "options.add_argument('disable-gpu')              # CPU 부담을 줄이고 GPU로 그래픽 가속"
   ]
  },
  {
   "cell_type": "code",
   "execution_count": 6,
   "id": "05b4243c",
   "metadata": {},
   "outputs": [
    {
     "name": "stdout",
     "output_type": "stream",
     "text": [
      "ID를 입력하세요: kcs4912\n",
      "Password를 입력하세요: ········\n"
     ]
    }
   ],
   "source": [
    "# 크롬드라이버 path 지정 및 옵션 지정 \n",
    "driver = webdriver.Chrome(executable_path='/Users/kisung.Kim/Documents/chromedriver', chrome_options=options)\n",
    "\n",
    "# 인스타 url 받아오기\n",
    "url = 'https://www.instagram.com/'\n",
    "driver.get(url)\n",
    "time.sleep(3)\n",
    "\n",
    "# 인스타 로그인 하기 - ID -> PW -> 로그인 클릭\n",
    "driver.find_element_by_xpath('//*[@id=\"loginForm\"]/div/div[1]/div/label/input').send_keys(input(\"ID를 입력하세요: \"))\n",
    "time.sleep(2)\n",
    "driver.find_element_by_xpath('//*[@id=\"loginForm\"]/div/div[2]/div/label/input').send_keys(getpass.getpass (\"Password를 입력하세요: \"))\n",
    "time.sleep(2)\n",
    "driver.find_element_by_xpath('//*[@id=\"loginForm\"]/div/div[3]').click()\n",
    "time.sleep(3)"
   ]
  },
  {
   "cell_type": "code",
   "execution_count": 7,
   "id": "5915efd8",
   "metadata": {},
   "outputs": [
    {
     "name": "stdout",
     "output_type": "stream",
     "text": [
      "키워드를 입력하세요: 여드름\n",
      "스크롤 내리는 중...\n",
      "스크롤 완료\n",
      "url 링크 받는 중...\n",
      "https://www.instagram.com/p/CaBHNEgh7Cj/\n",
      "https://www.instagram.com/p/CZ2zbKdBSuQ/\n",
      "https://www.instagram.com/p/CZ-K489hKVY/\n",
      "https://www.instagram.com/p/CZ_gnfVF0j5/\n",
      "https://www.instagram.com/p/CZ15DZGBdfU/\n",
      "https://www.instagram.com/p/CaAE0jPlaPL/\n",
      "https://www.instagram.com/p/CZ1BAwVle1E/\n",
      "https://www.instagram.com/p/CaBlih8rl5M/\n",
      "https://www.instagram.com/p/CZ2Ij2lhixg/\n",
      "https://www.instagram.com/p/CZ_awH6PLob/\n",
      "https://www.instagram.com/p/CZ_argmFK_z/\n",
      "https://www.instagram.com/p/CZ_aVqTP1t9/\n",
      "https://www.instagram.com/p/CZ_aBy4gUiN/\n",
      "https://www.instagram.com/p/CZ_Z-TClpXH/\n",
      "https://www.instagram.com/p/CZ_ZBOpPdQp/\n",
      "https://www.instagram.com/p/CZ_Ycv1l9MN/\n",
      "https://www.instagram.com/p/CZglQ--F8gd/\n",
      "https://www.instagram.com/p/CZ_YC4CF0sJ/\n",
      "https://www.instagram.com/p/CZ_YBIilLSG/\n",
      "https://www.instagram.com/p/CZ_YCGbFBDV/\n",
      "https://www.instagram.com/p/CZ_XerXlSSc/\n",
      "https://www.instagram.com/p/CZ_Xc7qljrL/\n",
      "https://www.instagram.com/p/CZ_Xd2-FPZx/\n",
      "https://www.instagram.com/p/CZ_W8jypXu0/\n",
      "https://www.instagram.com/p/CZ_WpZ6hdpv/\n",
      "https://www.instagram.com/p/CZ_WY67hbUL/\n",
      "https://www.instagram.com/p/CZ_WbIUv3TW/\n",
      "https://www.instagram.com/p/CZ_WNmihv-Y/\n",
      "https://www.instagram.com/p/CZ_VbDbJLJs/\n",
      "https://www.instagram.com/p/CZ_Ux7aJkN4/\n",
      "https://www.instagram.com/p/CZ_UVGvjzyg/\n",
      "https://www.instagram.com/p/CZ_Tey9hh4w/\n",
      "https://www.instagram.com/p/CZ_TnMWLwU3/\n",
      "https://www.instagram.com/p/CZ_TbM3v2PG/\n",
      "https://www.instagram.com/p/CZ_TMjAF_m9/\n",
      "https://www.instagram.com/p/CZ_SPu-PwGN/\n",
      "https://www.instagram.com/p/CZ_SM9wvvmP/\n",
      "https://www.instagram.com/p/CZ_SLTJPSeB/\n",
      "https://www.instagram.com/p/CZ_SFz4rk9D/\n",
      "https://www.instagram.com/p/CZ_RpFHFZKd/\n",
      "https://www.instagram.com/p/CZ_QmPCLG0H/\n",
      "https://www.instagram.com/p/CZ_QR6xPEqt/\n"
     ]
    }
   ],
   "source": [
    "time_sleep = random.randint(2, 6)\n",
    "keyword = input(\"키워드를 입력하세요: \")\n",
    "url = 'https://www.instagram.com/explore/tags/'+quote_plus(keyword)\n",
    "driver.get(url)\n",
    "time.sleep(3)\n",
    "\n",
    "print('스크롤 내리는 중...')\n",
    "# 스크롤 내리기 \n",
    "last_page_height = driver.execute_script(\"return document.documentElement.scrollHeight\")\n",
    "\n",
    "while True:\n",
    "    time_sleep = random.randint(1, 8)\n",
    "    driver.execute_script(\"window.scrollTo(0, document.documentElement.scrollHeight);\")\n",
    "    time.sleep(time_sleep)\n",
    "    new_page_height = driver.execute_script(\"return document.documentElement.scrollHeight\")\n",
    "    \n",
    "    time_sleep = random.randint(2, 9)\n",
    "    if new_page_height == last_page_height:\n",
    "        time.sleep(time_sleep)\n",
    "        if new_page_height == driver.execute_script(\"return document.documentElement.scrollHeight\"):\n",
    "            break\n",
    "    else:\n",
    "        last_page_height = new_page_height\n",
    "print('스크롤 완료')\n",
    "\n",
    "print('url 링크 받는 중...')\n",
    "\n",
    "# 인스타 정보 받기\n",
    "html = driver.page_source\n",
    "soup = BeautifulSoup(html)\n",
    "\n",
    "# url 링크 추출\n",
    "imglist = []\n",
    "insta = soup.select('.v1Nh3.kIKUG._bz0w')\n",
    "for i in insta:\n",
    "    print('https://www.instagram.com' + i.a['href'])\n",
    "    imgUrl = i.select_one('.KL4Bh').img['src']\n",
    "    imglist.append(imgUrl)\n",
    "    lmglist = list(set(imglist))\n",
    "    html = driver.page_source\n",
    "    soup = BeautifulSoup(html)\n",
    "    insta = soup.select('.v1Nh3.kIKUG._bz0w')"
   ]
  },
  {
   "cell_type": "code",
   "execution_count": 8,
   "id": "25274161",
   "metadata": {},
   "outputs": [
    {
     "name": "stdout",
     "output_type": "stream",
     "text": [
      "폴더 생성 완료\n"
     ]
    }
   ],
   "source": [
    "if not os.path.isdir('/Users/kisung.Kim/Documents/kimkisung/Work/Dermal_Freeco_Project/img_data_collection/insta_img'):\n",
    "    print('폴더 생성 완료')\n",
    "    os.mkdir('/Users/kisung.Kim/Documents/kimkisung/Work/Dermal_Freeco_Project/img_data_collection/insta_img')\n",
    "else:\n",
    "    print('이미 동일한 이름의 폴더가 있습니다.')"
   ]
  },
  {
   "cell_type": "code",
   "execution_count": 12,
   "id": "797ab7ba",
   "metadata": {},
   "outputs": [
    {
     "name": "stdout",
     "output_type": "stream",
     "text": [
      "이미지 추출을 시작합니다.\n"
     ]
    },
    {
     "data": {
      "application/vnd.jupyter.widget-view+json": {
       "model_id": "9c588bb23180497493d93cfa3bf7784f",
       "version_major": 2,
       "version_minor": 0
      },
      "text/plain": [
       "  0%|          | 0/42 [00:00<?, ?it/s]"
      ]
     },
     "metadata": {},
     "output_type": "display_data"
    },
    {
     "name": "stdout",
     "output_type": "stream",
     "text": [
      "이미지 추출이 완료되었습니다.\n"
     ]
    }
   ],
   "source": [
    "print(\"이미지 추출을 시작합니다.\")\n",
    "n=0\n",
    "\n",
    "for i in tq(range(len(lmglist))):\n",
    "    # This is the image url.\n",
    "    image_url = imglist[n]\n",
    "    # Open the url image, set stream to True, this will return the stream content.\n",
    "    resp = requests.get(image_url, stream=True)\n",
    "    # Open a local file with wb ( write binary ) permission.\n",
    "    local_file = open('./insta_img/' + keyword + str(n) + '.jpg', 'wb')\n",
    "    # Set decode_content value to True, otherwise the downloaded image file's size will be zero.\n",
    "    resp.raw.decode_content = True\n",
    "    # Copy the response stream raw data to local image file.\n",
    "    shutil.copyfileobj(resp.raw, local_file)\n",
    "    # Remove the image url response object.\n",
    "    n +=1\n",
    "    del resp\n",
    "\n",
    "print(\"이미지 추출이 완료되었습니다.\")"
   ]
  },
  {
   "cell_type": "code",
   "execution_count": 13,
   "id": "9a50b5b4",
   "metadata": {},
   "outputs": [],
   "source": [
    "result_df = pd.DataFrame()\n",
    "result_df['link'] = imglist\n",
    "\n",
    "now = datetime.datetime.now()\n",
    "now = str(now).replace(' ','')\n",
    "\n",
    "result_df.to_csv('./insta_img/' + f'키워드_{keyword}instar{now}.csv', index=False)\n",
    "driver.close()"
   ]
  },
  {
   "cell_type": "code",
   "execution_count": null,
   "id": "1ce4a755",
   "metadata": {},
   "outputs": [],
   "source": []
  },
  {
   "cell_type": "code",
   "execution_count": null,
   "id": "4dba309a",
   "metadata": {},
   "outputs": [],
   "source": []
  },
  {
   "cell_type": "code",
   "execution_count": null,
   "id": "5afcaa9f",
   "metadata": {},
   "outputs": [],
   "source": []
  },
  {
   "cell_type": "code",
   "execution_count": null,
   "id": "be31b1b2",
   "metadata": {},
   "outputs": [],
   "source": []
  },
  {
   "cell_type": "code",
   "execution_count": null,
   "id": "44b2a77d",
   "metadata": {},
   "outputs": [],
   "source": []
  }
 ],
 "metadata": {
  "kernelspec": {
   "display_name": "Python 3 (ipykernel)",
   "language": "python",
   "name": "python3"
  },
  "language_info": {
   "codemirror_mode": {
    "name": "ipython",
    "version": 3
   },
   "file_extension": ".py",
   "mimetype": "text/x-python",
   "name": "python",
   "nbconvert_exporter": "python",
   "pygments_lexer": "ipython3",
   "version": "3.8.12"
  }
 },
 "nbformat": 4,
 "nbformat_minor": 5
}
