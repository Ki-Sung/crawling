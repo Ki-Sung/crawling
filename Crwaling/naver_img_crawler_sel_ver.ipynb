{
 "cells": [
  {
   "cell_type": "code",
   "execution_count": 7,
   "metadata": {},
   "outputs": [],
   "source": [
    "# 크롤링에 필요한 패키지 모듈 불러오기 \n",
    "from bs4 import BeautifulSoup\n",
    "from selenium import webdriver \n",
    "from selenium.webdriver.chrome.options import Options\n",
    "from selenium.webdriver.common.keys import Keys\n",
    "from selenium.common.exceptions import NoSuchElementException\n",
    "\n",
    "from fake_useragent import UserAgent\n",
    "import random\n",
    "\n",
    "import os \n",
    "import requests\n",
    "import shutil\n",
    "import urllib\n",
    "from urllib.request import urlopen\n",
    "from urllib.parse import quote_plus\n",
    "from urllib.request import urlretrieve\n",
    "\n",
    "# 작업 진행상황 표시를 위한 패키지 모듈 불러오기 \n",
    "from tqdm import tqdm_notebook as tq\n",
    "import time\n",
    "import datetime\n",
    "\n",
    "# 데이터 판다스로 정리하기 위해 판다스 패키지 불러오기 \n",
    "import pandas as pd\n",
    "\n",
    "# 경고 표시 무시\n",
    "import warnings\n",
    "warnings.filterwarnings(action='ignore')"
   ]
  },
  {
   "cell_type": "code",
   "execution_count": 2,
   "metadata": {},
   "outputs": [
    {
     "name": "stdout",
     "output_type": "stream",
     "text": [
      "Mozilla/5.0 (Windows NT 6.2) AppleWebKit/537.36 (KHTML, like Gecko) Chrome/28.0.1464.0 Safari/537.36\n"
     ]
    }
   ],
   "source": [
    "# 랜덤으로 생성한 UserAgent 값 출력 \n",
    "ua = UserAgent()\n",
    "userAgent = ua.random\n",
    "print(userAgent)"
   ]
  },
  {
   "cell_type": "code",
   "execution_count": 3,
   "metadata": {},
   "outputs": [],
   "source": [
    "# chrome dirver 옵션\n",
    "options = webdriver.ChromeOptions()\n",
    "options.add_argument(f'user-agent={userAgent}')  # fake user 표시\n",
    "# options.add_argument('headless')                 # 크롬브라우저 숨기기\n",
    "options.add_argument('window-size=1920,1080')    # 모니터 해상도 지정\n",
    "options.add_argument('disable-gpu')              # CPU 부담을 줄이고 GPU로 그래픽 가속"
   ]
  },
  {
   "cell_type": "code",
   "execution_count": 5,
   "metadata": {},
   "outputs": [
    {
     "name": "stdout",
     "output_type": "stream",
     "text": [
      "키워드를 입력해주세요: 홍조\n"
     ]
    }
   ],
   "source": [
    "# 크롬 드라이버 path 지정 및 옵션 지정\n",
    "driver = webdriver.Chrome(executable_path='/Users/kisung.Kim/Documents/chromedriver', chrome_options=options)\n",
    "\n",
    "# 키워드 입력 \n",
    "keyword = input(\"키워드를 입력해주세요: \")\n",
    "\n",
    "# 입력된 키워드로 url 들어가기 \n",
    "url = \"https://search.naver.com/search.naver?sm=tab_hty.top&where=image&query=\" + quote_plus(keyword)  # 검색한 키워드 아스키 코드로 바꾼다음 해당 페이지로 이동\n",
    "\n",
    "# url 받기 \n",
    "driver.get(url)\n",
    "\n",
    "# 로딩 시간 조정\n",
    "time.sleep(5)"
   ]
  },
  {
   "cell_type": "code",
   "execution_count": 8,
   "metadata": {},
   "outputs": [],
   "source": [
    "# 스크롤 지정 \n",
    "# 우선 봇 의심을 피하기 위해 로딩 시간 random하게 조정 \n",
    "time_sleep = random.randint(3, 9)\n",
    "\n",
    "# 스크롤 범위 반복횟수 (1번 부터 4번 까지)\n",
    "for i in range(1,5):\n",
    "    # 웹창을 클릭 후 END키를 누르는 동작\n",
    "    driver.find_element_by_xpath('//body').send_keys(Keys.END)\n",
    "    # 로딩 시간 조정 \n",
    "    time.sleep(time_sleep)\n",
    "\n",
    "time_sleep = random.randint(2, 4)\n",
    "time.sleep(time_sleep)"
   ]
  },
  {
   "cell_type": "code",
   "execution_count": 9,
   "metadata": {},
   "outputs": [
    {
     "name": "stdout",
     "output_type": "stream",
     "text": [
      "폴더 생성 완료\n"
     ]
    }
   ],
   "source": [
    "# 폴더 생성 옵션\n",
    "# 만약 해당 경로에 폴더가 없다면 생성 \n",
    "if not os.path.isdir('/Users/kisung.Kim/Documents/kimkisung/Work/Dermal_Freeco_Project/img_data_collection/naver_img/' + f\"{keyword}\"):\n",
    "    print('폴더 생성 완료')\n",
    "    os.mkdir('/Users/kisung.Kim/Documents/kimkisung/Work/Dermal_Freeco_Project/img_data_collection/naver_img/' + f\"{keyword}\")\n",
    "else:\n",
    "    # 동일한 폴더가 있으면 이미 동일한 폴더가 있다고 안내\n",
    "    print('이미 동일한 이름의 폴더가 있습니다.')"
   ]
  },
  {
   "cell_type": "code",
   "execution_count": 10,
   "metadata": {},
   "outputs": [],
   "source": [
    "# 파일 이름에 날짜 시간을 위해 datetime 사용\n",
    "now = datetime.datetime.now()\n",
    "now = str(now).replace(' ','')"
   ]
  },
  {
   "cell_type": "code",
   "execution_count": 11,
   "metadata": {},
   "outputs": [
    {
     "data": {
      "application/vnd.jupyter.widget-view+json": {
       "model_id": "f51caf04409e45a9b7179f411d5a5f52",
       "version_major": 2,
       "version_minor": 0
      },
      "text/plain": [
       "  0%|          | 0/449 [00:00<?, ?it/s]"
      ]
     },
     "metadata": {},
     "output_type": "display_data"
    }
   ],
   "source": [
    "# beautifusoup으로 파싱하여 이미지 'src' 속성값 가져오기 \n",
    "soup = BeautifulSoup(driver.page_source, 'lxml')\n",
    "img = soup.select('img._listImage')\n",
    "img[0]['src']\n",
    "\n",
    "# src 속성값 가져와서 리스트에 저장\n",
    "imgSrc = []\n",
    "for i in img:\n",
    "    imgSrc.append(i['src'])\n",
    "\n",
    "# urlretrieve: url로 표시된 네터워크 객체(url 주소의 문서)를 로컬 파일로 저장 (직접 다운로드 가능)\n",
    "# 파일 이름 생성 후 이미지 저장\n",
    "fileNo = 0\n",
    "for i in tq(range(len(imgSrc))):\n",
    "    urlretrieve(imgSrc[i], \"./naver_img/\" +f'{keyword}/'+ f\"naver{keyword}_{now}_\" + str(fileNo)  + \".jpg\")\n",
    "    fileNo += 1\n",
    "    time.sleep(3)\n",
    "\n",
    "# 크롬브라우져 닫기\n",
    "driver.close()"
   ]
  }
 ],
 "metadata": {
  "kernelspec": {
   "display_name": "Python 3",
   "language": "python",
   "name": "python3"
  },
  "language_info": {
   "codemirror_mode": {
    "name": "ipython",
    "version": 3
   },
   "file_extension": ".py",
   "mimetype": "text/x-python",
   "name": "python",
   "nbconvert_exporter": "python",
   "pygments_lexer": "ipython3",
   "version": "3.8.5"
  }
 },
 "nbformat": 4,
 "nbformat_minor": 5
}
